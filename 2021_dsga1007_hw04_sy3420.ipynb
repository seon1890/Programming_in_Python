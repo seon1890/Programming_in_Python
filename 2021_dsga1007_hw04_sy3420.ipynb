{
 "cells": [
  {
   "cell_type": "markdown",
   "metadata": {},
   "source": [
    "--- \n",
    "\n",
    "### DSGA1007\n",
    "\n",
    "--- \n",
    "\n",
    "### HW04 \n",
    "\n",
    "### Due Date: Thursday 2021-11-04, 8PM\n",
    "\n",
    "\n",
    "#### Student Name: Seonhye Yang\n",
    "\n",
    "#### Student NetID: sy3420"
   ]
  },
  {
   "cell_type": "markdown",
   "metadata": {},
   "source": [
    "### Problem 01 (30 points)\n",
    "\n",
    "\n",
    "1.1 (5 points) Create a pandas Series object with with the values given by the twelve months: \"January\", \"February\", ..., \"December\". \n",
    "\n",
    "1.2 (5 points) What are the indexes for this object?\n",
    "\n",
    "\n",
    "1.3 (10 points) Create a pandas Series object with with the values given by the twelve months: \"January\", \"February\", ..., \"December\", and with the indexes given by the first twelve natural numbers: 1, 2, ..., 12. \n",
    "\n",
    "\n",
    "1.3 (10 points) Create a pandas Series object with with the values given by the twelve months: \"January\", \"February\", ..., \"December\", and with the indexes given by the first capital letters of the English alphabet: 'A', 'B', ..., 'L'"
   ]
  },
  {
   "cell_type": "code",
   "execution_count": 2,
   "metadata": {},
   "outputs": [
    {
     "data": {
      "text/plain": [
       "['A', 'B', 'C', 'D', 'E', 'F', 'G', 'H', 'I', 'J', 'K', 'L']"
      ]
     },
     "execution_count": 2,
     "metadata": {},
     "output_type": "execute_result"
    }
   ],
   "source": [
    "import pandas as pd\n",
    "import numpy as np\n",
    "import string\n",
    "import statistics\n",
    "import math\n",
    "list(string.ascii_uppercase)[0:12]"
   ]
  },
  {
   "cell_type": "markdown",
   "metadata": {},
   "source": [
    "### Solution 01 (30 points)"
   ]
  },
  {
   "cell_type": "code",
   "execution_count": 40,
   "metadata": {},
   "outputs": [
    {
     "name": "stdout",
     "output_type": "stream",
     "text": [
      "0       January\n",
      "1       Febuary\n",
      "2         March\n",
      "3         April\n",
      "4           May\n",
      "5          June\n",
      "6          July\n",
      "7        August\n",
      "8     September\n",
      "9       October\n",
      "10     November\n",
      "11     December\n",
      "dtype: object\n",
      "===========================================================================\n",
      "RangeIndex(start=0, stop=12, step=1)\n",
      "===========================================================================\n",
      "1       January\n",
      "2       Febuary\n",
      "3         March\n",
      "4         April\n",
      "5           May\n",
      "6          June\n",
      "7          July\n",
      "8        August\n",
      "9     September\n",
      "10      October\n",
      "11     November\n",
      "12     December\n",
      "dtype: object\n",
      "===========================================================================\n",
      "A      January\n",
      "B      Febuary\n",
      "C        March\n",
      "D        April\n",
      "E          May\n",
      "F         June\n",
      "G         July\n",
      "H       August\n",
      "I    September\n",
      "J      October\n",
      "K     November\n",
      "L     December\n",
      "dtype: object\n"
     ]
    }
   ],
   "source": [
    "#1.1\n",
    "twelve_months = pd.Series([\"January\", \"Febuary\", \"March\", \"April\", \"May\", \"June\", \"July\", \n",
    "                           \"August\", \"September\", \"October\", \"November\", \"December\"])\n",
    "print(twelve_months)\n",
    "print(\"===========================================================================\")\n",
    "#1.2\n",
    "print(twelve_months.index)\n",
    "print(\"===========================================================================\")\n",
    "#The indexes must be explicitly specified. \n",
    "\n",
    "#1.3\n",
    "twelve_months_numbers = pd.Series([\"January\", \"Febuary\", \"March\", \"April\", \"May\", \"June\", \"July\", \n",
    "                           \"August\", \"September\", \"October\", \"November\", \"December\"], index=[i for i in range(1, 13)])\n",
    "print(twelve_months_numbers)\n",
    "print(\"===========================================================================\")\n",
    "#1.4\n",
    "twelve_months_letters = pd.Series([\"January\", \"Febuary\", \"March\", \"April\", \"May\", \"June\", \"July\", \n",
    "                           \"August\", \"September\", \"October\", \"November\", \"December\"], \n",
    "                                  index=list(string.ascii_uppercase[0:12]))\n",
    "print(twelve_months_letters)"
   ]
  },
  {
   "cell_type": "markdown",
   "metadata": {},
   "source": [
    "### Problem 02 (30 points)"
   ]
  },
  {
   "cell_type": "markdown",
   "metadata": {},
   "source": [
    "2.1.1 (10 points) Create a pandas dataframe with the indexes $0, 1, \\dots, 9$ and column labels \"col0\", \"col1\", ..., \"col9\". Each value of the dateframe with the index $i$ and with the column \"colj\" should be assigned a random value from the uniform distribution on $[0, 1]$. Hint: You can use: https://numpy.org/doc/stable/reference/random/generated/numpy.random.rand.html \n",
    "\n",
    "\n",
    "2.1.2 (5 points) Filter the dataframe from 2.1.1 in order to remove all rows for which the corresponding value in the column \"col7\" is smaller than 0.2 and bigger than 0.8\n",
    "\n",
    "2.2.1 (10 points) Create a pandas dataframe with the indexes $0, 1, \\dots, 9$ and column labels \"col0\", \"col1\", ..., \"col9\". Each value of the dateframe with the index $i$ and with the column \"colj\" should be assigned the value $50 \\cdot i + j$. \n",
    "\n",
    "2.2.2 (5 points) Filter the dataframe from 2.2.1 in order to remove all rows for which the corresponding value in the column \"col7\" is smaller than 100 and bigger than 350\n"
   ]
  },
  {
   "cell_type": "markdown",
   "metadata": {},
   "source": [
    "### Solution 02 (30 points)"
   ]
  },
  {
   "cell_type": "code",
   "execution_count": 20,
   "metadata": {
    "scrolled": false
   },
   "outputs": [
    {
     "name": "stdout",
     "output_type": "stream",
     "text": [
      "       col0      col1      col2      col3      col4      col5      col6  \\\n",
      "0  0.389527  0.583590  0.816152  0.129293  0.532044  0.315491  0.391302   \n",
      "1  0.724267  0.981929  0.136051  0.113935  0.051311  0.635135  0.150992   \n",
      "2  0.045092  0.792396  0.066085  0.264871  0.007682  0.659024  0.716759   \n",
      "3  0.304835  0.674230  0.487124  0.162404  0.669443  0.994083  0.864473   \n",
      "4  0.841817  0.513298  0.222263  0.788729  0.288465  0.134064  0.008492   \n",
      "5  0.418211  0.962541  0.970562  0.550179  0.541856  0.919642  0.600921   \n",
      "6  0.103037  0.275769  0.612227  0.614247  0.588114  0.269821  0.653904   \n",
      "7  0.941635  0.468213  0.021856  0.997857  0.851856  0.256605  0.152618   \n",
      "8  0.267868  0.378349  0.051950  0.819714  0.495840  0.023876  0.528209   \n",
      "9  0.180408  0.342638  0.121814  0.974962  0.149024  0.648930  0.809351   \n",
      "\n",
      "       col7      col8      col9  \n",
      "0  0.384289  0.660079  0.288802  \n",
      "1  0.179895  0.111288  0.783399  \n",
      "2  0.465328  0.987152  0.239147  \n",
      "3  0.021343  0.967756  0.716644  \n",
      "4  0.508751  0.422846  0.033708  \n",
      "5  0.377101  0.099802  0.908569  \n",
      "6  0.160134  0.233746  0.753903  \n",
      "7  0.508461  0.820578  0.794364  \n",
      "8  0.678840  0.313149  0.935986  \n",
      "9  0.059700  0.200315  0.052465  \n",
      "\n",
      "\n",
      "       col0      col1      col2      col3      col4      col5      col6  \\\n",
      "0  0.389527  0.583590  0.816152  0.129293  0.532044  0.315491  0.391302   \n",
      "2  0.045092  0.792396  0.066085  0.264871  0.007682  0.659024  0.716759   \n",
      "4  0.841817  0.513298  0.222263  0.788729  0.288465  0.134064  0.008492   \n",
      "5  0.418211  0.962541  0.970562  0.550179  0.541856  0.919642  0.600921   \n",
      "7  0.941635  0.468213  0.021856  0.997857  0.851856  0.256605  0.152618   \n",
      "8  0.267868  0.378349  0.051950  0.819714  0.495840  0.023876  0.528209   \n",
      "\n",
      "       col7      col8      col9  \n",
      "0  0.384289  0.660079  0.288802  \n",
      "2  0.465328  0.987152  0.239147  \n",
      "4  0.508751  0.422846  0.033708  \n",
      "5  0.377101  0.099802  0.908569  \n",
      "7  0.508461  0.820578  0.794364  \n",
      "8  0.678840  0.313149  0.935986  \n",
      "\n",
      "\n",
      "  col0 col1 col2 col3 col4 col5 col6 col7 col8 col9\n",
      "0    0    1    2    3    4    5    6    7    8    9\n",
      "1   50   51   52   53   54   55   56   57   58   59\n",
      "2  100  101  102  103  104  105  106  107  108  109\n",
      "3  150  151  152  153  154  155  156  157  158  159\n",
      "4  200  201  202  203  204  205  206  207  208  209\n",
      "5  250  251  252  253  254  255  256  257  258  259\n",
      "6  300  301  302  303  304  305  306  307  308  309\n",
      "7  350  351  352  353  354  355  356  357  358  359\n",
      "8  400  401  402  403  404  405  406  407  408  409\n",
      "9  450  451  452  453  454  455  456  457  458  459\n",
      "\n",
      "\n",
      "  col0 col1 col2 col3 col4 col5 col6 col7 col8 col9\n",
      "2  100  101  102  103  104  105  106  107  108  109\n",
      "3  150  151  152  153  154  155  156  157  158  159\n",
      "4  200  201  202  203  204  205  206  207  208  209\n",
      "5  250  251  252  253  254  255  256  257  258  259\n",
      "6  300  301  302  303  304  305  306  307  308  309\n"
     ]
    }
   ],
   "source": [
    "import pandas as pd\n",
    "import numpy as np\n",
    "\n",
    "#2.1.1\n",
    "ind=[i for i in range(10)]\n",
    "colLabels = []\n",
    "for i in range(10):\n",
    "    colLabels.append(\"col\" + str(i))\n",
    "\n",
    "df=pd.DataFrame(np.random.rand(10,10), columns=colLabels, index=ind)\n",
    "print(df)\n",
    "\n",
    "#2.1.2\n",
    "print()\n",
    "print()\n",
    "print(df.loc[(df['col7'] > 0.2) & (df['col7'] < 0.8)])\n",
    "\n",
    "#2.2.1\n",
    "print()\n",
    "print()\n",
    "cols = []\n",
    "for i in range(10):\n",
    "    cols.append(\"col\" + str(i))\n",
    "\n",
    "df3 = pd.DataFrame(columns = cols, index =[i for i in range(10)])\n",
    "\n",
    "for i in range(10):\n",
    "    for j in range(10):\n",
    "        df3.iloc[i, j] = 50 * i + j\n",
    "        \n",
    "print(df3)\n",
    "\n",
    "#2.2.2\n",
    "print()\n",
    "print()\n",
    "print(df3.loc[(df3['col7'] > 100) & (df3['col7'] < 350)])"
   ]
  },
  {
   "cell_type": "markdown",
   "metadata": {},
   "source": [
    "### Problem 03 (40 points)\n",
    "\n",
    "In this problem we examine the provided data set \"IMDB-Movie-Data.csv\", which contains the following columns that describe a list of movies: \n",
    "    \n",
    "['Title', Rank', 'Genre', 'Description', 'Director', 'Actors', 'Year', 'Runtime (Minutes)', 'Rating', 'Votes', 'Revenue (Millions)', 'Metascore'].\n",
    "\n",
    "To read the given data set into a dataframe with the index equal to a title of a movie title, you can use: \n",
    "\n",
    "\n",
    "\n",
    "\n",
    "```df_movies = pd.read_csv(\"IMDB-Movie-Data.csv\", index_col=\"Title\")```\n",
    "\n",
    "\n",
    "But since we want to drop all duplicated rows, you can use the following to read the data:\n",
    "\n",
    "\n",
    "```df_movies = pd.read_csv(\"IMDB-Movie-Data.csv\", index_col=\"Title\").drop_duplicates()```\n",
    "\n",
    "\n",
    "Also, in order to get an idea about the content of the data set, you can run:\n",
    "\n",
    "```df_movies``` \n",
    "\n",
    "\n",
    "\n",
    "3.1 (10 points) Print the number of rows in such obtained dataset\n",
    "\n",
    "3.2 (10 points) Print the number of rows for which the column \"Metascore\" is ` NA/null` (i.e. not defined).\n",
    "\n",
    "3.3 (10 points) Print the ratio of the two: what is the fraction of missing values for the column \"Metascore\"\n",
    "\n",
    "3.4 (10 points) Print the min, mean, max, median for the column \"Metascore\"\n",
    "\n"
   ]
  },
  {
   "cell_type": "markdown",
   "metadata": {},
   "source": [
    "### Solution 03 (40 points)"
   ]
  },
  {
   "cell_type": "code",
   "execution_count": 5,
   "metadata": {},
   "outputs": [
    {
     "name": "stdout",
     "output_type": "stream",
     "text": [
      "1000\n",
      "64\n",
      "125.0:8.0\n",
      "Min value is 11.0\n",
      "Mean value is 58.98504273504273\n",
      "Max value is 100.0\n",
      "Median value is 59.5\n"
     ]
    }
   ],
   "source": [
    "df2=pd.read_csv(\"IMDB-Movie-Data.csv\", index_col=\"Title\").drop_duplicates()\n",
    "#3.1\n",
    "num_rows=len(df2)\n",
    "print(num_rows)\n",
    "\n",
    "#3.2\n",
    "num_rows2=len(df2.loc[df2[\"Metascore\"].isnull()])\n",
    "print(num_rows2)\n",
    "\n",
    "#3.3\n",
    "den = math.gcd(num_rows, num_rows2)\n",
    "print(f\"{num_rows/den}:{num_rows2/den}\")\n",
    "                        \n",
    "#3.4\n",
    "print(\"Min value is\", min(df2[\"Metascore\"]))\n",
    "print(\"Mean value is\" , np.mean(df2[\"Metascore\"]))\n",
    "print(\"Max value is\", max(df2[\"Metascore\"]))\n",
    "print(\"Median value is\" , np.nanmedian(df2[\"Metascore\"]))"
   ]
  },
  {
   "cell_type": "code",
   "execution_count": null,
   "metadata": {},
   "outputs": [],
   "source": []
  }
 ],
 "metadata": {
  "kernelspec": {
   "display_name": "Python 3",
   "language": "python",
   "name": "python3"
  },
  "language_info": {
   "codemirror_mode": {
    "name": "ipython",
    "version": 3
   },
   "file_extension": ".py",
   "mimetype": "text/x-python",
   "name": "python",
   "nbconvert_exporter": "python",
   "pygments_lexer": "ipython3",
   "version": "3.7.3"
  }
 },
 "nbformat": 4,
 "nbformat_minor": 2
}
