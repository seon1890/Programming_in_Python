{
 "cells": [
  {
   "cell_type": "markdown",
   "metadata": {},
   "source": [
    "--- \n",
    "\n",
    "### DSGA1007\n",
    "\n",
    "--- \n",
    "\n",
    "### HW07 \n",
    "\n",
    "### Due Date: Sunday 2021-12-05, 8 PM\n",
    "\n",
    "---\n",
    "\n",
    "#### Student Name: \n",
    "\n",
    "#### Student NetID:"
   ]
  },
  {
   "cell_type": "markdown",
   "metadata": {},
   "source": [
    "**Problem 1 (100 points)**\n",
    "\n",
    "\n",
    "In this HW as in Lab11 we consider some of the data sets on `restaurant-data-with-consumer-ratings` from: https://www.kaggle.com/uciml/restaurant-data-with-consumer-ratings\n",
    "\n",
    "The data is attached. For all details on data sets, see descriptions in the README file. \n"
   ]
  },
  {
   "cell_type": "code",
   "execution_count": 2,
   "metadata": {},
   "outputs": [],
   "source": [
    "import pandas as pd\n",
    "import numpy as np\n",
    "import matplotlib.pyplot as plt"
   ]
  },
  {
   "cell_type": "markdown",
   "metadata": {},
   "source": [
    "**1.1 (5 points)**\n",
    "\n",
    "Use a shell command to display all provided `*.csv` files (i.e. display the names of all csv files provided)."
   ]
  },
  {
   "cell_type": "code",
   "execution_count": 3,
   "metadata": {},
   "outputs": [
    {
     "name": "stdout",
     "output_type": "stream",
     "text": [
      "/Users/seonhyeyang/Downloads/data_2\n"
     ]
    }
   ],
   "source": [
    "%cd /Users/seonhyeyang/Downloads/data_2"
   ]
  },
  {
   "cell_type": "code",
   "execution_count": 3,
   "metadata": {},
   "outputs": [
    {
     "name": "stdout",
     "output_type": "stream",
     "text": [
      "README             chefmozhours4.csv  rating_final.csv   userprofile.csv\r\n",
      "chefmozaccepts.csv chefmozparking.csv usercuisine.csv\r\n",
      "chefmozcuisine.csv geoplaces2.csv     userpayment.csv\r\n"
     ]
    }
   ],
   "source": [
    "!ls"
   ]
  },
  {
   "cell_type": "code",
   "execution_count": null,
   "metadata": {},
   "outputs": [],
   "source": [
    "#there are 10 csv files"
   ]
  },
  {
   "cell_type": "markdown",
   "metadata": {},
   "source": [
    "**1.2 (5 points)**\n",
    "\n",
    "Read `./userpayment.csv`, print its head, and print the number of all transactions, i.e. `Upayment`s."
   ]
  },
  {
   "cell_type": "code",
   "execution_count": 33,
   "metadata": {},
   "outputs": [
    {
     "name": "stdout",
     "output_type": "stream",
     "text": [
      "userID,Upayment\r\n",
      "U1001,cash\r\n",
      "U1002,cash\r\n",
      "U1003,cash\r\n",
      "U1004,cash\r\n",
      "U1004,bank_debit_cards\r\n",
      "U1005,cash\r\n",
      "U1006,cash\r\n",
      "U1007,cash\r\n",
      "U1008,cash\r\n"
     ]
    }
   ],
   "source": [
    "!cat userpayment.csv| head"
   ]
  },
  {
   "cell_type": "code",
   "execution_count": 40,
   "metadata": {},
   "outputs": [
    {
     "name": "stdout",
     "output_type": "stream",
     "text": [
      "     177\n",
      "there are 177 transactions\n"
     ]
    }
   ],
   "source": [
    "!cat userpayment.csv| cut -f2 -d \",\"| tail -n +2| wc -l\n",
    "print(\"there are 177 transactions\")"
   ]
  },
  {
   "cell_type": "markdown",
   "metadata": {},
   "source": [
    "**1.3 (5 points)**\n",
    "\n",
    "Read `'./userprofile.csv'`, and print its head."
   ]
  },
  {
   "cell_type": "code",
   "execution_count": 42,
   "metadata": {},
   "outputs": [
    {
     "name": "stdout",
     "output_type": "stream",
     "text": [
      "userID,latitude,longitude,smoker,drink_level,dress_preference,ambience,transport,marital_status,hijos,birth_year,interest,personality,religion,activity,color,weight,budget,height\r\n",
      "U1001,22.139997,-100.978803,false,abstemious,informal,family,on foot,single,independent,1989,variety,thrifty-protector,none,student,black,69,medium,1.77\r\n",
      "U1002,22.150087,-100.983325,false,abstemious,informal,family,public,single,independent,1990,technology,hunter-ostentatious,Catholic,student,red,40,low,1.87\r\n",
      "U1003,22.119847,-100.946527,false,social drinker,formal,family,public,single,independent,1989,none,hard-worker,Catholic,student,blue,60,low,1.69\r\n",
      "U1004,18.867,-99.183,false,abstemious,informal,family,public,single,independent,1940,variety,hard-worker,none,professional,green,44,medium,1.53\r\n",
      "U1005,22.183477,-100.959891,false,abstemious,no preference,family,public,single,independent,1992,none,thrifty-protector,Catholic,student,black,65,medium,1.69\r\n",
      "U1006,22.15,-100.983,true,social drinker,no preference,friends,car owner,single,independent,1989,variety,hard-worker,none,student,blue,75,medium,1.8\r\n",
      "U1007,22.118464,-100.938256,false,casual drinker,informal,solitary,public,single,independent,1989,variety,thrifty-protector,Catholic,student,purple,60,low,1.59\r\n",
      "U1008,22.122989,-100.923811,false,social drinker,formal,solitary,public,single,independent,1989,technology,hard-worker,Catholic,student,green,68,low,1.72\r\n",
      "U1009,22.159427,-100.990448,false,abstemious,formal,family,on foot,single,kids,1991,variety,thrifty-protector,Catholic,student,green,75,medium,1.78\r\n"
     ]
    }
   ],
   "source": [
    "!cat userprofile.csv| head"
   ]
  },
  {
   "cell_type": "markdown",
   "metadata": {},
   "source": [
    "**1.4 (5 points)**\n",
    "\n",
    "\n",
    "From this table, one can get many characteristics of the users. Let us consider heights of the users. What are the minimum height and the maximum height of all users? "
   ]
  },
  {
   "cell_type": "code",
   "execution_count": 62,
   "metadata": {},
   "outputs": [
    {
     "name": "stdout",
     "output_type": "stream",
     "text": [
      "1.2\r\n"
     ]
    }
   ],
   "source": [
    "#minimum height\n",
    "!cat userprofile.csv| cut -f19 -d \",\"|tail -n +2| sort -n| head -1"
   ]
  },
  {
   "cell_type": "code",
   "execution_count": 74,
   "metadata": {},
   "outputs": [
    {
     "name": "stdout",
     "output_type": "stream",
     "text": [
      "2\r\n"
     ]
    }
   ],
   "source": [
    "#maximum height\n",
    "!cat userprofile.csv| cut -f19 -d \",\"|tail -n +2| sort -n| tail -1"
   ]
  },
  {
   "cell_type": "markdown",
   "metadata": {},
   "source": [
    "**1.5 (5 points)** \n",
    "\n",
    "Plot a histogram of the heights of users. \n",
    "\n",
    "Set the parameter `bins=250` (which is the number of bins in the given histogram)."
   ]
  },
  {
   "cell_type": "code",
   "execution_count": 47,
   "metadata": {},
   "outputs": [
    {
     "data": {
      "text/plain": [
       "Text(0.5, 1.0, 'Height of Users')"
      ]
     },
     "execution_count": 47,
     "metadata": {},
     "output_type": "execute_result"
    },
    {
     "data": {
      "image/png": "[encoded data removed]",
      "text/plain": [
       "<Figure size 432x288 with 1 Axes>"
      ]
     },
     "metadata": {
      "needs_background": "light"
     },
     "output_type": "display_data"
    }
   ],
   "source": [
    "df = pd.read_csv(\"userprofile.csv\")\n",
    "height = df[\"height\"]\n",
    "height.hist(bins = 25, color = \"black\")\n",
    "plt.title(\"Height of Users\")"
   ]
  },
  {
   "cell_type": "markdown",
   "metadata": {},
   "source": [
    "**1.6 (5 points)**\n",
    "\n",
    "\n",
    "What is the number of users with the height of 1.80 meters?"
   ]
  },
  {
   "cell_type": "code",
   "execution_count": 204,
   "metadata": {},
   "outputs": [
    {
     "data": {
      "text/html": [
       "<div>\n",
       "<style scoped>\n",
       "    .dataframe tbody tr th:only-of-type {\n",
       "        vertical-align: middle;\n",
       "    }\n",
       "\n",
       "    .dataframe tbody tr th {\n",
       "        vertical-align: top;\n",
       "    }\n",
       "\n",
       "    .dataframe thead th {\n",
       "        text-align: right;\n",
       "    }\n",
       "</style>\n",
       "<table border=\"1\" class=\"dataframe\">\n",
       "  <thead>\n",
       "    <tr style=\"text-align: right;\">\n",
       "      <th></th>\n",
       "      <th>userID</th>\n",
       "      <th>latitude</th>\n",
       "      <th>longitude</th>\n",
       "      <th>smoker</th>\n",
       "      <th>drink_level</th>\n",
       "      <th>dress_preference</th>\n",
       "      <th>ambience</th>\n",
       "      <th>transport</th>\n",
       "      <th>marital_status</th>\n",
       "      <th>hijos</th>\n",
       "      <th>birth_year</th>\n",
       "      <th>interest</th>\n",
       "      <th>personality</th>\n",
       "      <th>religion</th>\n",
       "      <th>activity</th>\n",
       "      <th>color</th>\n",
       "      <th>weight</th>\n",
       "      <th>budget</th>\n",
       "      <th>height</th>\n",
       "    </tr>\n",
       "  </thead>\n",
       "  <tbody>\n",
       "    <tr>\n",
       "      <th>5</th>\n",
       "      <td>U1006</td>\n",
       "      <td>22.150000</td>\n",
       "      <td>-100.983000</td>\n",
       "      <td>true</td>\n",
       "      <td>social drinker</td>\n",
       "      <td>no preference</td>\n",
       "      <td>friends</td>\n",
       "      <td>car owner</td>\n",
       "      <td>single</td>\n",
       "      <td>independent</td>\n",
       "      <td>1989</td>\n",
       "      <td>variety</td>\n",
       "      <td>hard-worker</td>\n",
       "      <td>none</td>\n",
       "      <td>student</td>\n",
       "      <td>blue</td>\n",
       "      <td>75</td>\n",
       "      <td>medium</td>\n",
       "      <td>1.8</td>\n",
       "    </tr>\n",
       "    <tr>\n",
       "      <th>51</th>\n",
       "      <td>U1052</td>\n",
       "      <td>22.138055</td>\n",
       "      <td>-100.936005</td>\n",
       "      <td>true</td>\n",
       "      <td>social drinker</td>\n",
       "      <td>no preference</td>\n",
       "      <td>family</td>\n",
       "      <td>on foot</td>\n",
       "      <td>single</td>\n",
       "      <td>independent</td>\n",
       "      <td>1990</td>\n",
       "      <td>none</td>\n",
       "      <td>conformist</td>\n",
       "      <td>Catholic</td>\n",
       "      <td>student</td>\n",
       "      <td>blue</td>\n",
       "      <td>85</td>\n",
       "      <td>low</td>\n",
       "      <td>1.8</td>\n",
       "    </tr>\n",
       "    <tr>\n",
       "      <th>130</th>\n",
       "      <td>U1131</td>\n",
       "      <td>22.138245</td>\n",
       "      <td>-100.910948</td>\n",
       "      <td>true</td>\n",
       "      <td>social drinker</td>\n",
       "      <td>no preference</td>\n",
       "      <td>friends</td>\n",
       "      <td>car owner</td>\n",
       "      <td>married</td>\n",
       "      <td>kids</td>\n",
       "      <td>1990</td>\n",
       "      <td>eco-friendly</td>\n",
       "      <td>hard-worker</td>\n",
       "      <td>none</td>\n",
       "      <td>student</td>\n",
       "      <td>black</td>\n",
       "      <td>90</td>\n",
       "      <td>medium</td>\n",
       "      <td>1.8</td>\n",
       "    </tr>\n",
       "  </tbody>\n",
       "</table>\n",
       "</div>"
      ],
      "text/plain": [
       "    userID   latitude   longitude smoker     drink_level dress_preference  \\\n",
       "5    U1006  22.150000 -100.983000   true  social drinker    no preference   \n",
       "51   U1052  22.138055 -100.936005   true  social drinker    no preference   \n",
       "130  U1131  22.138245 -100.910948   true  social drinker    no preference   \n",
       "\n",
       "    ambience  transport marital_status        hijos  birth_year      interest  \\\n",
       "5    friends  car owner         single  independent        1989       variety   \n",
       "51    family    on foot         single  independent        1990          none   \n",
       "130  friends  car owner        married         kids        1990  eco-friendly   \n",
       "\n",
       "     personality  religion activity  color  weight  budget  height  \n",
       "5    hard-worker      none  student   blue      75  medium     1.8  \n",
       "51    conformist  Catholic  student   blue      85     low     1.8  \n",
       "130  hard-worker      none  student  black      90  medium     1.8  "
      ]
     },
     "execution_count": 204,
     "metadata": {},
     "output_type": "execute_result"
    }
   ],
   "source": [
    "df[df[\"height\"] == 1.8]\n"
   ]
  },
  {
   "cell_type": "code",
   "execution_count": 205,
   "metadata": {},
   "outputs": [
    {
     "name": "stdout",
     "output_type": "stream",
     "text": [
      "there are 3 users with the height of 1.80 meters\n"
     ]
    }
   ],
   "source": [
    "print(\"there are 3 users with the height of 1.80 meters\")"
   ]
  },
  {
   "cell_type": "markdown",
   "metadata": {},
   "source": [
    "**1.7 (5 points)**\n",
    "\n",
    "Read `./rating_final.csv`, and print its head."
   ]
  },
  {
   "cell_type": "code",
   "execution_count": 4,
   "metadata": {},
   "outputs": [
    {
     "name": "stdout",
     "output_type": "stream",
     "text": [
      "userID,placeID,rating,food_rating,service_rating\r\n",
      "U1077,135085,2,2,2\r\n",
      "U1077,135038,2,2,1\r\n",
      "U1077,132825,2,2,2\r\n",
      "U1077,135060,1,2,2\r\n",
      "U1068,135104,1,1,2\r\n",
      "U1068,132740,0,0,0\r\n",
      "U1068,132663,1,1,1\r\n",
      "U1068,132732,0,0,0\r\n",
      "U1068,132630,1,1,1\r\n"
     ]
    }
   ],
   "source": [
    "!cat rating_final.csv | head"
   ]
  },
  {
   "cell_type": "markdown",
   "metadata": {},
   "source": [
    "**1.8 (5 points)**\n",
    "\n",
    "Read `./geoplaces2.csv`, print its head."
   ]
  },
  {
   "cell_type": "code",
   "execution_count": 6,
   "metadata": {},
   "outputs": [
    {
     "name": "stdout",
     "output_type": "stream",
     "text": [
      "placeID,latitude,longitude,the_geom_meter,name,address,city,state,country,fax,zip,alcohol,smoking_area,dress_code,accessibility,price,url,Rambience,franchise,area,other_services\r\n",
      "134999,18.915421,-99.184871,0101000020957F000088568DE356715AC138C0A525FC464A41,Kiku Cuernavaca,Revolucion,Cuernavaca,Morelos,Mexico,?,?,No_Alcohol_Served,none,informal,no_accessibility,medium,kikucuernavaca.com.mx,familiar,f,closed,none\r\n",
      "132825,22.1473922,-100.983092,0101000020957F00001AD016568C4858C1243261274BA54B41,puesto de tacos,esquina santos degollado y leon guzman,s.l.p.,s.l.p.,mexico,?,78280,No_Alcohol_Served,none,informal,completely,low,?,familiar,f,open,none\r\n",
      "135106,22.1497088,-100.9760928,0101000020957F0000649D6F21634858C119AE9BF528A34B41,El Rinc�n de San Francisco,Universidad 169,San Luis Potosi,San Luis Potosi,Mexico,?,78000,Wine-Beer,only at bar,informal,partially,medium,?,familiar,f,open,none\r\n",
      "132667,23.7526973,-99.1633594,0101000020957F00005D67BCDDED8157C1222A2DC8D84D4941,little pizza Emilio Portes Gil,calle emilio portes gil,victoria ,tamaulipas,?,?,?,No_Alcohol_Served,none,informal,completely,low,?,familiar,t,closed,none\r\n",
      "132613,23.7529035,-99.165076,0101000020957F00008EBA2D06DC8157C194E03B7B504E4941,carnitas_mata,lic. Emilio portes gil,victoria,Tamaulipas,Mexico,?,?,No_Alcohol_Served,permitted,informal,completely,medium,?,familiar,t,closed,none\r\n",
      "135040,22.135617,-100.969709,0101000020957F00001B552189B84A58C15A2AAEFD2CA24B41,Restaurant los Compadres,Camino a Simon Diaz 155 Centro,San Luis Potosi,SLP,Mexico,?,74000,Wine-Beer,none,informal,no_accessibility,high,?,familiar,f,closed,none\r\n",
      "132732,23.7543569,-99.171288,0101000020957F00008A20E615808157C16272FECBF84F4941,Taqueria EL amigo ,Calle Mezquite Fracc Framboyanes,Cd Victoria,Tamaulipas,Mexico,?,87018,No_Alcohol_Served,none,casual,completely,low,?,familiar,f,open,none\r\n",
      "132875,22.1499013,-100.9937793,0101000020957F00008A2A0747DE4758C11EB31D2A31A84B41,shi ro ie,?,?,?,?,?,?,Wine-Beer,section,informal,no_accessibility,high,?,familiar,t,open,Internet\r\n",
      "132609,23.7602683,-99.1658646,0101000020957F0000A478418BBA8057C133851EB22C4E4941,Pollo_Frito_Buenos_Aires,tampico,victoria,Tamaulipas,Mexico,?,?,No_Alcohol_Served,not permitted,informal,completely,low,?,quiet,t,closed,none\r\n"
     ]
    }
   ],
   "source": [
    "!cat geoplaces2.csv | head"
   ]
  },
  {
   "cell_type": "markdown",
   "metadata": {},
   "source": [
    "**1.9 (5 points)**\n",
    "\n",
    "Print the number of unique users(i.e. 'userID') as well as the number of unique restaurants (i.e. 'placeID'),\n",
    "included in `./rating_final.csv`."
   ]
  },
  {
   "cell_type": "code",
   "execution_count": 29,
   "metadata": {},
   "outputs": [
    {
     "name": "stdout",
     "output_type": "stream",
     "text": [
      "     138\r\n"
     ]
    }
   ],
   "source": [
    "#userID\n",
    "!cat rating_final.csv| cut -f1 -d \",\"|tail -n +2|sort| uniq|wc -l"
   ]
  },
  {
   "cell_type": "code",
   "execution_count": 31,
   "metadata": {},
   "outputs": [
    {
     "name": "stdout",
     "output_type": "stream",
     "text": [
      "     130\r\n"
     ]
    }
   ],
   "source": [
    "#placeID\n",
    "!cat rating_final.csv| cut -f2 -d \",\"| tail -n +2|sort| uniq| wc -l"
   ]
  },
  {
   "cell_type": "markdown",
   "metadata": {},
   "source": [
    "**1.10 (15 points)**\n",
    "\n",
    "Use the ratings `rating_final.csv`. 'Group by' the data by `placeID` and obtain `mean` and `std` of each of the ratings (`rating`, `food_rating`, and `service_rating`) for each restaurant (i.e. for each `placeID`).\n",
    "\n",
    "Print the head of this frame so to show the results. "
   ]
  },
  {
   "cell_type": "code",
   "execution_count": 147,
   "metadata": {},
   "outputs": [
    {
     "data": {
      "text/html": [
       "<div>\n",
       "<style scoped>\n",
       "    .dataframe tbody tr th:only-of-type {\n",
       "        vertical-align: middle;\n",
       "    }\n",
       "\n",
       "    .dataframe tbody tr th {\n",
       "        vertical-align: top;\n",
       "    }\n",
       "\n",
       "    .dataframe thead th {\n",
       "        text-align: right;\n",
       "    }\n",
       "</style>\n",
       "<table border=\"1\" class=\"dataframe\">\n",
       "  <thead>\n",
       "    <tr style=\"text-align: right;\">\n",
       "      <th></th>\n",
       "      <th>rating</th>\n",
       "      <th>food_rating</th>\n",
       "      <th>service_rating</th>\n",
       "    </tr>\n",
       "    <tr>\n",
       "      <th>placeID</th>\n",
       "      <th></th>\n",
       "      <th></th>\n",
       "      <th></th>\n",
       "    </tr>\n",
       "  </thead>\n",
       "  <tbody>\n",
       "    <tr>\n",
       "      <th>132560</th>\n",
       "      <td>0.50</td>\n",
       "      <td>1.00</td>\n",
       "      <td>0.250000</td>\n",
       "    </tr>\n",
       "    <tr>\n",
       "      <th>132561</th>\n",
       "      <td>0.75</td>\n",
       "      <td>1.00</td>\n",
       "      <td>1.000000</td>\n",
       "    </tr>\n",
       "    <tr>\n",
       "      <th>132564</th>\n",
       "      <td>1.25</td>\n",
       "      <td>1.25</td>\n",
       "      <td>1.500000</td>\n",
       "    </tr>\n",
       "    <tr>\n",
       "      <th>132572</th>\n",
       "      <td>1.00</td>\n",
       "      <td>1.00</td>\n",
       "      <td>0.933333</td>\n",
       "    </tr>\n",
       "    <tr>\n",
       "      <th>132583</th>\n",
       "      <td>1.00</td>\n",
       "      <td>1.00</td>\n",
       "      <td>1.250000</td>\n",
       "    </tr>\n",
       "  </tbody>\n",
       "</table>\n",
       "</div>"
      ],
      "text/plain": [
       "         rating  food_rating  service_rating\n",
       "placeID                                     \n",
       "132560     0.50         1.00        0.250000\n",
       "132561     0.75         1.00        1.000000\n",
       "132564     1.25         1.25        1.500000\n",
       "132572     1.00         1.00        0.933333\n",
       "132583     1.00         1.00        1.250000"
      ]
     },
     "execution_count": 147,
     "metadata": {},
     "output_type": "execute_result"
    }
   ],
   "source": [
    "rating = pd.read_csv(\"rating_final.csv\")\n",
    "ratings = rating.iloc[:, 1:]\n",
    "#mean\n",
    "ratings.groupby(ratings[\"placeID\"]).mean().head()"
   ]
  },
  {
   "cell_type": "code",
   "execution_count": 148,
   "metadata": {},
   "outputs": [
    {
     "data": {
      "text/html": [
       "<div>\n",
       "<style scoped>\n",
       "    .dataframe tbody tr th:only-of-type {\n",
       "        vertical-align: middle;\n",
       "    }\n",
       "\n",
       "    .dataframe tbody tr th {\n",
       "        vertical-align: top;\n",
       "    }\n",
       "\n",
       "    .dataframe thead th {\n",
       "        text-align: right;\n",
       "    }\n",
       "</style>\n",
       "<table border=\"1\" class=\"dataframe\">\n",
       "  <thead>\n",
       "    <tr style=\"text-align: right;\">\n",
       "      <th></th>\n",
       "      <th>rating</th>\n",
       "      <th>food_rating</th>\n",
       "      <th>service_rating</th>\n",
       "    </tr>\n",
       "    <tr>\n",
       "      <th>placeID</th>\n",
       "      <th></th>\n",
       "      <th></th>\n",
       "      <th></th>\n",
       "    </tr>\n",
       "  </thead>\n",
       "  <tbody>\n",
       "    <tr>\n",
       "      <th>132560</th>\n",
       "      <td>0.577350</td>\n",
       "      <td>1.154701</td>\n",
       "      <td>0.500000</td>\n",
       "    </tr>\n",
       "    <tr>\n",
       "      <th>132561</th>\n",
       "      <td>0.500000</td>\n",
       "      <td>0.816497</td>\n",
       "      <td>0.816497</td>\n",
       "    </tr>\n",
       "    <tr>\n",
       "      <th>132564</th>\n",
       "      <td>0.500000</td>\n",
       "      <td>0.500000</td>\n",
       "      <td>0.577350</td>\n",
       "    </tr>\n",
       "    <tr>\n",
       "      <th>132572</th>\n",
       "      <td>0.654654</td>\n",
       "      <td>0.925820</td>\n",
       "      <td>0.883715</td>\n",
       "    </tr>\n",
       "    <tr>\n",
       "      <th>132583</th>\n",
       "      <td>0.816497</td>\n",
       "      <td>1.154701</td>\n",
       "      <td>0.957427</td>\n",
       "    </tr>\n",
       "  </tbody>\n",
       "</table>\n",
       "</div>"
      ],
      "text/plain": [
       "           rating  food_rating  service_rating\n",
       "placeID                                       \n",
       "132560   0.577350     1.154701        0.500000\n",
       "132561   0.500000     0.816497        0.816497\n",
       "132564   0.500000     0.500000        0.577350\n",
       "132572   0.654654     0.925820        0.883715\n",
       "132583   0.816497     1.154701        0.957427"
      ]
     },
     "execution_count": 148,
     "metadata": {},
     "output_type": "execute_result"
    }
   ],
   "source": [
    "#std\n",
    "ratings.groupby(ratings[\"placeID\"]).std().head()"
   ]
  },
  {
   "cell_type": "markdown",
   "metadata": {},
   "source": [
    "**1.11 (10 points)**\n",
    "\n",
    "\n",
    "Rank the restaurants IDs (i.e. 'placeID') by their `mean ratings` increasingly.\n",
    "\n",
    "Print the restaurants IDs (i.e. 'placeID') and `mean ratings` with the lowest `mean ratings` (hint: lowest appears at the top).\n",
    "\n",
    "Print the restaurants IDs (i.e. 'placeID') and `mean ratings` with the highest `mean ratings` (hint: highest appears at the bottom).\n",
    "\n"
   ]
  },
  {
   "cell_type": "code",
   "execution_count": 206,
   "metadata": {},
   "outputs": [
    {
     "data": {
      "text/html": [
       "<div>\n",
       "<style scoped>\n",
       "    .dataframe tbody tr th:only-of-type {\n",
       "        vertical-align: middle;\n",
       "    }\n",
       "\n",
       "    .dataframe tbody tr th {\n",
       "        vertical-align: top;\n",
       "    }\n",
       "\n",
       "    .dataframe thead th {\n",
       "        text-align: right;\n",
       "    }\n",
       "</style>\n",
       "<table border=\"1\" class=\"dataframe\">\n",
       "  <thead>\n",
       "    <tr style=\"text-align: right;\">\n",
       "      <th></th>\n",
       "      <th>rating</th>\n",
       "      <th>food_rating</th>\n",
       "      <th>service_rating</th>\n",
       "    </tr>\n",
       "    <tr>\n",
       "      <th>placeID</th>\n",
       "      <th></th>\n",
       "      <th></th>\n",
       "      <th></th>\n",
       "    </tr>\n",
       "  </thead>\n",
       "  <tbody>\n",
       "    <tr>\n",
       "      <th>132654</th>\n",
       "      <td>0.250000</td>\n",
       "      <td>0.25</td>\n",
       "      <td>0.250000</td>\n",
       "    </tr>\n",
       "    <tr>\n",
       "      <th>135040</th>\n",
       "      <td>0.250000</td>\n",
       "      <td>0.25</td>\n",
       "      <td>0.250000</td>\n",
       "    </tr>\n",
       "    <tr>\n",
       "      <th>132560</th>\n",
       "      <td>0.500000</td>\n",
       "      <td>1.00</td>\n",
       "      <td>0.250000</td>\n",
       "    </tr>\n",
       "    <tr>\n",
       "      <th>132663</th>\n",
       "      <td>0.500000</td>\n",
       "      <td>0.50</td>\n",
       "      <td>0.666667</td>\n",
       "    </tr>\n",
       "    <tr>\n",
       "      <th>135069</th>\n",
       "      <td>0.500000</td>\n",
       "      <td>0.50</td>\n",
       "      <td>0.750000</td>\n",
       "    </tr>\n",
       "    <tr>\n",
       "      <th>...</th>\n",
       "      <td>...</td>\n",
       "      <td>...</td>\n",
       "      <td>...</td>\n",
       "    </tr>\n",
       "    <tr>\n",
       "      <th>132755</th>\n",
       "      <td>1.800000</td>\n",
       "      <td>2.00</td>\n",
       "      <td>1.600000</td>\n",
       "    </tr>\n",
       "    <tr>\n",
       "      <th>132922</th>\n",
       "      <td>1.833333</td>\n",
       "      <td>1.50</td>\n",
       "      <td>1.833333</td>\n",
       "    </tr>\n",
       "    <tr>\n",
       "      <th>134986</th>\n",
       "      <td>2.000000</td>\n",
       "      <td>2.00</td>\n",
       "      <td>2.000000</td>\n",
       "    </tr>\n",
       "    <tr>\n",
       "      <th>135034</th>\n",
       "      <td>2.000000</td>\n",
       "      <td>2.00</td>\n",
       "      <td>1.600000</td>\n",
       "    </tr>\n",
       "    <tr>\n",
       "      <th>132955</th>\n",
       "      <td>2.000000</td>\n",
       "      <td>1.80</td>\n",
       "      <td>1.800000</td>\n",
       "    </tr>\n",
       "  </tbody>\n",
       "</table>\n",
       "<p>130 rows × 3 columns</p>\n",
       "</div>"
      ],
      "text/plain": [
       "           rating  food_rating  service_rating\n",
       "placeID                                       \n",
       "132654   0.250000         0.25        0.250000\n",
       "135040   0.250000         0.25        0.250000\n",
       "132560   0.500000         1.00        0.250000\n",
       "132663   0.500000         0.50        0.666667\n",
       "135069   0.500000         0.50        0.750000\n",
       "...           ...          ...             ...\n",
       "132755   1.800000         2.00        1.600000\n",
       "132922   1.833333         1.50        1.833333\n",
       "134986   2.000000         2.00        2.000000\n",
       "135034   2.000000         2.00        1.600000\n",
       "132955   2.000000         1.80        1.800000\n",
       "\n",
       "[130 rows x 3 columns]"
      ]
     },
     "execution_count": 206,
     "metadata": {},
     "output_type": "execute_result"
    }
   ],
   "source": [
    "avg = ratings.groupby(ratings[\"placeID\"]).mean()\n",
    "avg.sort_values(by=[\"rating\"])"
   ]
  },
  {
   "cell_type": "markdown",
   "metadata": {},
   "source": [
    "**1.12 (10 points)**\n",
    "\n",
    "Make and print a table with columns (`place`, `mean`, `name`), \n",
    "which are the restaurant's ID, mean ratings, and name, \n",
    "of the 10 restaurants with the lowest `mean ratings`.\n"
   ]
  },
  {
   "cell_type": "code",
   "execution_count": 124,
   "metadata": {},
   "outputs": [],
   "source": [
    "geo = pd.read_csv(\"geoplaces2.csv\")"
   ]
  },
  {
   "cell_type": "code",
   "execution_count": 156,
   "metadata": {},
   "outputs": [
    {
     "data": {
      "text/html": [
       "<div>\n",
       "<style scoped>\n",
       "    .dataframe tbody tr th:only-of-type {\n",
       "        vertical-align: middle;\n",
       "    }\n",
       "\n",
       "    .dataframe tbody tr th {\n",
       "        vertical-align: top;\n",
       "    }\n",
       "\n",
       "    .dataframe thead th {\n",
       "        text-align: right;\n",
       "    }\n",
       "</style>\n",
       "<table border=\"1\" class=\"dataframe\">\n",
       "  <thead>\n",
       "    <tr style=\"text-align: right;\">\n",
       "      <th></th>\n",
       "      <th>placeID</th>\n",
       "      <th>rating</th>\n",
       "    </tr>\n",
       "    <tr>\n",
       "      <th>name</th>\n",
       "      <th></th>\n",
       "      <th></th>\n",
       "    </tr>\n",
       "  </thead>\n",
       "  <tbody>\n",
       "    <tr>\n",
       "      <th>Restaurant los Compadres</th>\n",
       "      <td>135040.0</td>\n",
       "      <td>0.250</td>\n",
       "    </tr>\n",
       "    <tr>\n",
       "      <th>Carnitas Mata  Calle 16 de Septiembre</th>\n",
       "      <td>132654.0</td>\n",
       "      <td>0.250</td>\n",
       "    </tr>\n",
       "    <tr>\n",
       "      <th>Abondance Restaurante Bar</th>\n",
       "      <td>135069.0</td>\n",
       "      <td>0.500</td>\n",
       "    </tr>\n",
       "    <tr>\n",
       "      <th>tacos abi</th>\n",
       "      <td>132663.0</td>\n",
       "      <td>0.500</td>\n",
       "    </tr>\n",
       "    <tr>\n",
       "      <th>puesto de gorditas</th>\n",
       "      <td>132560.0</td>\n",
       "      <td>0.500</td>\n",
       "    </tr>\n",
       "    <tr>\n",
       "      <th>Tortas y hamburguesas el gordo</th>\n",
       "      <td>132870.0</td>\n",
       "      <td>0.600</td>\n",
       "    </tr>\n",
       "    <tr>\n",
       "      <th>Hamburguesas saul</th>\n",
       "      <td>132885.0</td>\n",
       "      <td>0.600</td>\n",
       "    </tr>\n",
       "    <tr>\n",
       "      <th>Pollo_Frito_Buenos_Aires</th>\n",
       "      <td>132609.0</td>\n",
       "      <td>0.600</td>\n",
       "    </tr>\n",
       "    <tr>\n",
       "      <th>tacos de barbacoa enfrente del Tec</th>\n",
       "      <td>132594.0</td>\n",
       "      <td>0.600</td>\n",
       "    </tr>\n",
       "    <tr>\n",
       "      <th>Taqueria EL amigo</th>\n",
       "      <td>132732.0</td>\n",
       "      <td>0.625</td>\n",
       "    </tr>\n",
       "  </tbody>\n",
       "</table>\n",
       "</div>"
      ],
      "text/plain": [
       "                                        placeID  rating\n",
       "name                                                   \n",
       "Restaurant los Compadres               135040.0   0.250\n",
       "Carnitas Mata  Calle 16 de Septiembre  132654.0   0.250\n",
       "Abondance Restaurante Bar              135069.0   0.500\n",
       "tacos abi                              132663.0   0.500\n",
       "puesto de gorditas                     132560.0   0.500\n",
       "Tortas y hamburguesas el gordo         132870.0   0.600\n",
       "Hamburguesas saul                      132885.0   0.600\n",
       "Pollo_Frito_Buenos_Aires               132609.0   0.600\n",
       "tacos de barbacoa enfrente del Tec     132594.0   0.600\n",
       "Taqueria EL amigo                      132732.0   0.625"
      ]
     },
     "execution_count": 156,
     "metadata": {},
     "output_type": "execute_result"
    }
   ],
   "source": [
    "merged = pd.merge(rating, geo, on = \"placeID\")\n",
    "merging = merged[[\"placeID\", \"rating\", \"name\"]]\n",
    "final_merging = merging.groupby(merging[\"name\"]).mean()\n",
    "final_merging.sort_values(by=[\"rating\"]).head(10)"
   ]
  },
  {
   "cell_type": "markdown",
   "metadata": {},
   "source": [
    "**1.13 (10 points)**\n",
    "\n",
    "Make and print a table with columns (`place`, `mean`, `name`), \n",
    "which are the restaurant's ID, mean ratings, and name, \n",
    "of the 10 restaurants with the highest `mean ratings`.\n"
   ]
  },
  {
   "cell_type": "code",
   "execution_count": 157,
   "metadata": {},
   "outputs": [
    {
     "data": {
      "text/html": [
       "<div>\n",
       "<style scoped>\n",
       "    .dataframe tbody tr th:only-of-type {\n",
       "        vertical-align: middle;\n",
       "    }\n",
       "\n",
       "    .dataframe tbody tr th {\n",
       "        vertical-align: top;\n",
       "    }\n",
       "\n",
       "    .dataframe thead th {\n",
       "        text-align: right;\n",
       "    }\n",
       "</style>\n",
       "<table border=\"1\" class=\"dataframe\">\n",
       "  <thead>\n",
       "    <tr style=\"text-align: right;\">\n",
       "      <th></th>\n",
       "      <th>placeID</th>\n",
       "      <th>rating</th>\n",
       "    </tr>\n",
       "    <tr>\n",
       "      <th>name</th>\n",
       "      <th></th>\n",
       "      <th></th>\n",
       "    </tr>\n",
       "  </thead>\n",
       "  <tbody>\n",
       "    <tr>\n",
       "      <th>Mariscos El Pescador</th>\n",
       "      <td>135075.0</td>\n",
       "      <td>1.692308</td>\n",
       "    </tr>\n",
       "    <tr>\n",
       "      <th>la Cochinita Pibil Restaurante Yucateco</th>\n",
       "      <td>135055.0</td>\n",
       "      <td>1.714286</td>\n",
       "    </tr>\n",
       "    <tr>\n",
       "      <th>Giovannis</th>\n",
       "      <td>135013.0</td>\n",
       "      <td>1.750000</td>\n",
       "    </tr>\n",
       "    <tr>\n",
       "      <th>Restaurante la Parroquia Potosina</th>\n",
       "      <td>135074.0</td>\n",
       "      <td>1.750000</td>\n",
       "    </tr>\n",
       "    <tr>\n",
       "      <th>Log Yin</th>\n",
       "      <td>134976.0</td>\n",
       "      <td>1.750000</td>\n",
       "    </tr>\n",
       "    <tr>\n",
       "      <th>La Estrella de Dimas</th>\n",
       "      <td>132755.0</td>\n",
       "      <td>1.800000</td>\n",
       "    </tr>\n",
       "    <tr>\n",
       "      <th>cafe punta del cielo</th>\n",
       "      <td>132922.0</td>\n",
       "      <td>1.833333</td>\n",
       "    </tr>\n",
       "    <tr>\n",
       "      <th>emilianos</th>\n",
       "      <td>132955.0</td>\n",
       "      <td>2.000000</td>\n",
       "    </tr>\n",
       "    <tr>\n",
       "      <th>Michiko Restaurant Japones</th>\n",
       "      <td>135034.0</td>\n",
       "      <td>2.000000</td>\n",
       "    </tr>\n",
       "    <tr>\n",
       "      <th>Restaurant Las Mananitas</th>\n",
       "      <td>134986.0</td>\n",
       "      <td>2.000000</td>\n",
       "    </tr>\n",
       "  </tbody>\n",
       "</table>\n",
       "</div>"
      ],
      "text/plain": [
       "                                          placeID    rating\n",
       "name                                                       \n",
       "Mariscos El Pescador                     135075.0  1.692308\n",
       "la Cochinita Pibil Restaurante Yucateco  135055.0  1.714286\n",
       "Giovannis                                135013.0  1.750000\n",
       "Restaurante la Parroquia Potosina        135074.0  1.750000\n",
       "Log Yin                                  134976.0  1.750000\n",
       "La Estrella de Dimas                     132755.0  1.800000\n",
       "cafe punta del cielo                     132922.0  1.833333\n",
       "emilianos                                132955.0  2.000000\n",
       "Michiko Restaurant Japones               135034.0  2.000000\n",
       "Restaurant Las Mananitas                 134986.0  2.000000"
      ]
     },
     "execution_count": 157,
     "metadata": {},
     "output_type": "execute_result"
    }
   ],
   "source": [
    "final_merging.sort_values(by=[\"rating\"]).tail(10)"
   ]
  },
  {
   "cell_type": "markdown",
   "metadata": {},
   "source": [
    "**1.14 (10 points)**\n",
    "\n",
    "\n",
    "Print `name`, `city`, `state` for the two restaurants with the lowest and highest rank from the \"1.11\" problem sorted data frame (which ranks the restaurants IDs (i.e. 'placeID') by their `mean ratings` increasingly).\n",
    "\n",
    "\n"
   ]
  },
  {
   "cell_type": "code",
   "execution_count": 200,
   "metadata": {},
   "outputs": [
    {
     "name": "stdout",
     "output_type": "stream",
     "text": [
      "Bottom Ten\n",
      "                                      name             city            state\n",
      "5                 Restaurant los Compadres  San Luis Potosi              SLP\n",
      "6                       Taqueria EL amigo       Cd Victoria       Tamaulipas\n",
      "8                 Pollo_Frito_Buenos_Aires         victoria       Tamaulipas\n",
      "11               Abondance Restaurante Bar  San Luis Potosi              SLP\n",
      "15          Tortas y hamburguesas el gordo  San Luis Potosi  San Luis Potosi\n",
      "85                       Hamburguesas saul  San Luis Potosi  San Luis Potosi\n",
      "103  Carnitas Mata  Calle 16 de Septiembre        victoria        tamaulipas\n",
      "106                     puesto de gorditas         victoria       tamaulipas\n",
      "111     tacos de barbacoa enfrente del Tec                ?                ?\n",
      "122                              tacos abi         victoria       tamaulipas\n",
      "\n",
      "Top Ten\n",
      "                                        name             city    state\n",
      "24                                 Giovannis         Jiutepec  Morelos\n",
      "46                                 emilianos   san luis potos   mexico\n",
      "53                Michiko Restaurant Japones  San Luis Potosi      SLP\n",
      "55   la Cochinita Pibil Restaurante Yucateco  San Luis Potosi      SLP\n",
      "57         Restaurante la Parroquia Potosina  San Luis Potosi      SLP\n",
      "95                      cafe punta del cielo                ?        ?\n",
      "101                     La Estrella de Dimas  San Luis Potosi   S.L.P.\n",
      "107                                  Log Yin                ?        ?\n",
      "108                     Mariscos El Pescador  San Luis Potosi      SLP\n",
      "112                 Restaurant Las Mananitas       Cuernavaca  Morelos\n"
     ]
    }
   ],
   "source": [
    "bottom_ten = final_merging.sort_values(by=[\"rating\"]).head(10)\n",
    "top_ten = final_merging.sort_values(by=[\"rating\"]).tail(10)\n",
    "\n",
    "bten = list(bottom_ten.index.values)\n",
    "tten = list(top_ten.index.values)\n",
    "\n",
    "print(\"Bottom Ten\")\n",
    "print(geo[geo['name'].isin(bten)][[\"name\", \"city\", \"state\"]])\n",
    "print()\n",
    "print(\"Top Ten\")\n",
    "print(geo[geo['name'].isin(tten)][[\"name\", \"city\", \"state\"]])"
   ]
  },
  {
   "cell_type": "code",
   "execution_count": null,
   "metadata": {},
   "outputs": [],
   "source": []
  }
 ],
 "metadata": {
  "kernelspec": {
   "display_name": "Python 3",
   "language": "python",
   "name": "python3"
  },
  "language_info": {
   "codemirror_mode": {
    "name": "ipython",
    "version": 3
   },
   "file_extension": ".py",
   "mimetype": "text/x-python",
   "name": "python",
   "nbconvert_exporter": "python",
   "pygments_lexer": "ipython3",
   "version": "3.7.3"
  }
 },
 "nbformat": 4,
 "nbformat_minor": 2
}
