{
 "cells": [
  {
   "cell_type": "markdown",
   "metadata": {},
   "source": [
    "--- \n",
    "\n",
    "### 2021 FALL\n",
    "### DSGA1007\n",
    "\n",
    "--- \n",
    "\n",
    "### HW02\n",
    "### Due Date: 2021-10-07, 8PM"
   ]
  },
  {
   "cell_type": "markdown",
   "metadata": {},
   "source": [
    "Firstname: Seonhye\n",
    "\n",
    "Lastname: Yang\n",
    "\n",
    "E-mail: sy3420@nyu.edu\n",
    "\n",
    "\n",
    "--- \n",
    "\n",
    "Enter your solutions below,  and submit this notebook"
   ]
  },
  {
   "cell_type": "markdown",
   "metadata": {},
   "source": [
    "### Problem 01 (10 points):\n",
    "\n",
    "1. 1 (5 points) Write a function that iteratively calculates factorial $n!$ of an integer $n \\geq 0$, where $n!=1 \\cdot 2 \\cdot \\dots \\cdot n$. Evaluate the function for $n=10$.\n",
    "\n",
    "\n",
    "1. 2 (5 points) Write a function that recursively calculates factorial $n!$ of an integer $n \\geq 0$, where $n!=1 \\cdot 2 \\cdot \\dots \\cdot n$. Evaluate the function for $n=10$.\n"
   ]
  },
  {
   "cell_type": "code",
   "execution_count": 21,
   "metadata": {},
   "outputs": [
    {
     "name": "stdout",
     "output_type": "stream",
     "text": [
      "3628800\n",
      "3628800\n"
     ]
    }
   ],
   "source": [
    "##Iteration\n",
    "def factorial_iteration(n):\n",
    "    for i in range(1, n):\n",
    "        n = n*i\n",
    "    return(n)\n",
    "\n",
    "##recursion        \n",
    "def factorial_recursion(n):\n",
    "    if n < 0:\n",
    "        return None\n",
    "    if n == 0:\n",
    "        return 1\n",
    "    return n * factorial(n - 1)\n",
    "\n",
    "print(factorial_iteration(10))\n",
    "print(factorial_recursion(10))"
   ]
  },
  {
   "cell_type": "markdown",
   "metadata": {},
   "source": [
    "### Problem 02 (50 points)\n",
    "\n",
    "Let $M$ be a real quadratic matrix, that is, the number of rows and columns are the same. \n",
    "\n",
    "2.1 (20 points) Write a function that *recursively* calculates the power of matrix to the exponent $k$ (by the definition of the matrix multiplication). Here $k \\geq 0$ is an integer.\n",
    "\n",
    "```def matrix_mult_rec(M, k):\n",
    "    return M_to_power\n",
    "```    \n",
    "    \n",
    "2.2 (10 points) What is the number of calls, that is, how many times the function has been called for $k=100$?\n",
    "\n",
    "2.3 (15 points) Given the same question as the one in 2.2, what is the answer for a general input $k$?\n",
    "\n",
    "2.4. (5 points) What is the answer for `M=np.ones((5, 5))` and `k=5`?"
   ]
  },
  {
   "cell_type": "code",
   "execution_count": 79,
   "metadata": {},
   "outputs": [
    {
     "name": "stdout",
     "output_type": "stream",
     "text": [
      "99\n",
      "24\n",
      "49\n",
      "99\n",
      "4\n"
     ]
    },
    {
     "data": {
      "text/plain": [
       "array([[625., 625., 625., 625., 625.],\n",
       "       [625., 625., 625., 625., 625.],\n",
       "       [625., 625., 625., 625., 625.],\n",
       "       [625., 625., 625., 625., 625.],\n",
       "       [625., 625., 625., 625., 625.]])"
      ]
     },
     "execution_count": 79,
     "metadata": {},
     "output_type": "execute_result"
    }
   ],
   "source": [
    "import numpy as np\n",
    "\n",
    "M = np.ones((5,5))\n",
    "#2.1\n",
    "def matrix_mult_rec(M, k):\n",
    "    if k == 1:\n",
    "        return M\n",
    "    return np.matmul(M, matrix_mult_rec(M, k - 1))\n",
    "\n",
    "\n",
    "#2.2\n",
    "def matrix_mult_rec_count(M, k, counter):\n",
    "    if k == 1:\n",
    "        print(counter)\n",
    "        return M\n",
    "    counter = counter + 1\n",
    "    return np.matmul(M, matrix_mult_rec_count(M, k - 1, counter))\n",
    "\n",
    "def matrix_mult_rec(M, k):\n",
    "    return matrix_mult_rec_count(M, k, 0)\n",
    "\n",
    "matrix_mult_rec(M, 100)\n",
    "\n",
    "#2.3\n",
    "matrix_mult_rec(M, 25)\n",
    "matrix_mult_rec(M, 50)\n",
    "matrix_mult_rec(M, 100)\n",
    "# k - 1\n",
    "\n",
    "#2.4\n",
    "matrix_mult_rec(M, 5)"
   ]
  },
  {
   "cell_type": "markdown",
   "metadata": {},
   "source": [
    "### Problem 03 (20 points):\n",
    "\n",
    "3.1 (5 points) Write a function that performs a bubble sort.(Function from the lecture is accepted)\n",
    "\n",
    "3.2 (5 points) Write a function that performs a merge sort.(Function from the lecture is accepted)\n",
    "\n",
    "3.3 (5 points) Generate a random numpy array $a$, of length $n=10000$, where each component is a random number independently and uniformly generated from the interval $[0, 1]$. \n",
    "\n",
    "3.4 (5 points) Estimate and print the actual running times for the functions from 3.1 and 3.2 when applied on the array $a$.\n",
    "\n",
    "**Hint**: In problem 3.4 you are asked to find the actual running time for each of the functions bubble sort and merge sort when applied on the random array $a$. In order to calculate the running time, that is, how long a function takes to run, you can use the following code:"
   ]
  },
  {
   "cell_type": "code",
   "execution_count": 2,
   "metadata": {},
   "outputs": [
    {
     "name": "stdout",
     "output_type": "stream",
     "text": [
      "0:00:00.000039\n"
     ]
    }
   ],
   "source": [
    "import datetime\n",
    "\n",
    "start_time =  datetime.datetime.now()\n",
    "# function()\n",
    "end_time =  datetime.datetime.now()\n",
    "run_time = end_time - start_time\n",
    "print(run_time)"
   ]
  },
  {
   "cell_type": "code",
   "execution_count": 9,
   "metadata": {},
   "outputs": [
    {
     "name": "stdout",
     "output_type": "stream",
     "text": [
      "bubble estimate: 10 sec\n",
      "bubble sort:  0:00:23.712377\n",
      "merge estimate: .1 sec\n",
      "merge sort:  0:00:00.048412\n"
     ]
    }
   ],
   "source": [
    "import numpy as np\n",
    "#3.1\n",
    "def bubble_sort(arr):\n",
    "    \"\"\"sort array: bubble sort\"\"\"\n",
    "    for i in range(len(arr) - 1):\n",
    "        for j in range(i + 1, len(arr)):\n",
    "            if arr[i] > arr[j]:\n",
    "                # swap elements:\n",
    "                arr[i], arr[j] = arr[j], arr[i]\n",
    "\n",
    "#3.2\n",
    "def merge_two_sorted(left_arr, right_arr):\n",
    "    \n",
    "    # init values\n",
    "    lst_result = []\n",
    "    left_point, right_point = 0, 0\n",
    "    \n",
    "    while left_point < len(left_arr) and right_point < len(right_arr):\n",
    "        \n",
    "        if left_arr[left_point] <= right_arr[right_point]:\n",
    "            lst_result.append(left_arr[left_point])\n",
    "            left_point += 1\n",
    "            \n",
    "        else:\n",
    "            lst_result.append(right_arr[right_point])\n",
    "            right_point += 1\n",
    "\n",
    "    # if we've reached the end of the left list:\n",
    "    # append the rest of the right list\n",
    "    if left_point == len(left_arr):\n",
    "        lst_result += right_arr[right_point: ]\n",
    "    else:\n",
    "        lst_result += left_arr[left_point: ]\n",
    "    \n",
    "    return lst_result\n",
    "\n",
    "def merge_sort(arr):\n",
    " \n",
    "    if len(arr) <= 1:\n",
    "        return arr\n",
    "    \n",
    "    # otherwise split into two halves \n",
    "    middle = len(arr) // 2\n",
    "    \n",
    "    arr_left = arr[: middle]    \n",
    "    arr_right = arr[middle: ]\n",
    "\n",
    "    arr_left = merge_sort(arr_left)\n",
    "    arr_right = merge_sort(arr_right)\n",
    "    \n",
    "    return list(merge_two_sorted(arr_left, arr_right))\n",
    "\n",
    "#3.3\n",
    "a = np.random.uniform(0, 1, 10000)\n",
    "\n",
    "#3.4\n",
    "print(\"bubble estimate: 10 sec\")\n",
    "start_time =  datetime.datetime.now()\n",
    "bubble_sort(a)\n",
    "end_time =  datetime.datetime.now()\n",
    "run_time = end_time - start_time\n",
    "print(\"bubble sort: \", run_time)\n",
    "\n",
    "print(\"merge estimate: .1 sec\")\n",
    "start_time =  datetime.datetime.now()\n",
    "merge_sort(a)\n",
    "end_time =  datetime.datetime.now()\n",
    "run_time = end_time - start_time\n",
    "print(\"merge sort: \", run_time)"
   ]
  },
  {
   "cell_type": "markdown",
   "metadata": {},
   "source": [
    "\n",
    "### Problem 04 (20 points)\n"
   ]
  },
  {
   "cell_type": "markdown",
   "metadata": {},
   "source": [
    "The provided file 'nba2020.csv' contains the schedules and information of the NBA games for 2020. Using the unix commands, covered in Lecture04, write scripts which will display:\n",
    "    \n",
    "4.1 (5 points) a unique list of NBA teams, provided in the file; (you can use either column \"Visitor\" or column \"Home\")\n",
    "\n",
    "4.2 (5 points) the number of those NBA teams;\n",
    "\n",
    "4.3 (5 points) a unique list of the times -- provided in the file -- when the NBA matches were played;\n",
    "\n",
    "4.4 (5 points) the number of these unique times."
   ]
  },
  {
   "cell_type": "markdown",
   "metadata": {},
   "source": [
    "**Important:** to skip the header of file you can use: \n",
    "    \n",
    "`!tail -n+2 nba2020.csv`\n",
    "\n",
    "\n",
    "Since,\n",
    "\n",
    "``-n, --lines=[+]NUM       output the last NUM lines, instead of the last 10;\n",
    "                             or use -n +NUM to output starting with line NUM``\n",
    "        \n",
    "        \n",
    "**Hint:** Problems 4.3 and 4.4 are asking for the list and unique times in the provided dataset/file. There is a column \"Start (ET)\" in the dataset, and you should process this column. For example \"3:30p\" is one of these times.  For this, you can use the \"cut\" command and the flag \"-f\" as described in class. "
   ]
  },
  {
   "cell_type": "code",
   "execution_count": 18,
   "metadata": {},
   "outputs": [
    {
     "name": "stdout",
     "output_type": "stream",
     "text": [
      "Atlanta Hawks\r\n",
      "Boston Celtics\r\n",
      "Brooklyn Nets\r\n",
      "Charlotte Hornets\r\n",
      "Chicago Bulls\r\n",
      "Cleveland Cavaliers\r\n",
      "Dallas Mavericks\r\n",
      "Denver Nuggets\r\n",
      "Detroit Pistons\r\n",
      "Golden State Warriors\r\n",
      "Houston Rockets\r\n",
      "Indiana Pacers\r\n",
      "Los Angeles Clippers\r\n",
      "Los Angeles Lakers\r\n",
      "Memphis Grizzlies\r\n",
      "Miami Heat\r\n",
      "Milwaukee Bucks\r\n",
      "Minnesota Timberwolves\r\n",
      "New Orleans Pelicans\r\n",
      "New York Knicks\r\n",
      "Oklahoma City Thunder\r\n",
      "Orlando Magic\r\n",
      "Philadelphia 76ers\r\n",
      "Phoenix Suns\r\n",
      "Portland Trail Blazers\r\n",
      "Sacramento Kings\r\n",
      "San Antonio Spurs\r\n",
      "Toronto Raptors\r\n",
      "Utah Jazz\r\n",
      "Washington Wizards\r\n"
     ]
    }
   ],
   "source": [
    "# 4.1\n",
    "!tail -n+2 nba2020.csv | cut -d \",\" -f 3 | sort | uniq"
   ]
  },
  {
   "cell_type": "code",
   "execution_count": 19,
   "metadata": {
    "scrolled": false
   },
   "outputs": [
    {
     "name": "stdout",
     "output_type": "stream",
     "text": [
      "      30\r\n"
     ]
    }
   ],
   "source": [
    "# 4.2\n",
    "!tail -n+2 nba2020.csv | cut -d \",\" -f 3 | sort | uniq | wc -l"
   ]
  },
  {
   "cell_type": "code",
   "execution_count": 20,
   "metadata": {
    "scrolled": true
   },
   "outputs": [
    {
     "name": "stdout",
     "output_type": "stream",
     "text": [
      "\r\n",
      "10:00p\r\n",
      "10:30p\r\n",
      "3:30p\r\n",
      "5:00p\r\n",
      "6:00p\r\n",
      "7:00p\r\n",
      "7:30p\r\n",
      "8:00p\r\n",
      "8:30p\r\n",
      "9:00p\r\n",
      "9:30p\r\n"
     ]
    }
   ],
   "source": [
    "# 4.3\n",
    "!tail -n+2 nba2020.csv | cut -d \",\" -f 2 | sort | uniq"
   ]
  },
  {
   "cell_type": "code",
   "execution_count": 21,
   "metadata": {},
   "outputs": [
    {
     "name": "stdout",
     "output_type": "stream",
     "text": [
      "      12\r\n"
     ]
    }
   ],
   "source": [
    "# 4.4\n",
    "!tail -n+2 nba2020.csv | cut -d \",\" -f 2 | sort | uniq | wc -l"
   ]
  },
  {
   "cell_type": "code",
   "execution_count": null,
   "metadata": {},
   "outputs": [],
   "source": []
  }
 ],
 "metadata": {
  "kernelspec": {
   "display_name": "Python 3",
   "language": "python",
   "name": "python3"
  },
  "language_info": {
   "codemirror_mode": {
    "name": "ipython",
    "version": 3
   },
   "file_extension": ".py",
   "mimetype": "text/x-python",
   "name": "python",
   "nbconvert_exporter": "python",
   "pygments_lexer": "ipython3",
   "version": "3.7.3"
  }
 },
 "nbformat": 4,
 "nbformat_minor": 2
}
