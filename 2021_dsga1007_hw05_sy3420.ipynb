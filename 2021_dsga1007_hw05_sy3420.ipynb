{
 "cells": [
  {
   "cell_type": "markdown",
   "metadata": {},
   "source": [
    "--- \n",
    "\n",
    "### DSGA1007\n",
    "\n",
    "--- \n",
    "\n",
    "### HW05 \n",
    "\n",
    "### Due Date: Sunday 2021-11-14, 8PM\n",
    "\n",
    "\n",
    "#### Student Name: Seonhye Yang\n",
    "\n",
    "#### Student NetID: sy3420"
   ]
  },
  {
   "cell_type": "markdown",
   "metadata": {},
   "source": [
    "In this HW we continue the analysis of the data \"StudentsPerformance.csv\" presented in Lab08:\n",
    "\n",
    "``data is adapted from a dataset from kaggle:  \n",
    "https://www.kaggle.com/spscientist/students-performance-in-exams``\n",
    "\n",
    "The dataset \"StudentsPerformance.csv\" has been posted under Content for Lab08. Please download \"StudentsPerformance.csv\" from Brightspace."
   ]
  },
  {
   "cell_type": "code",
   "execution_count": 229,
   "metadata": {},
   "outputs": [],
   "source": [
    "import pandas as pd\n",
    "import matplotlib.pyplot as pyplot\n",
    "import numpy as np"
   ]
  },
  {
   "cell_type": "markdown",
   "metadata": {},
   "source": [
    "**Problem 1.1 (Points 5)** \n",
    "\n",
    "Read the data by using `pandas`. "
   ]
  },
  {
   "cell_type": "code",
   "execution_count": 232,
   "metadata": {},
   "outputs": [
    {
     "data": {
      "text/html": [
       "<div>\n",
       "<style scoped>\n",
       "    .dataframe tbody tr th:only-of-type {\n",
       "        vertical-align: middle;\n",
       "    }\n",
       "\n",
       "    .dataframe tbody tr th {\n",
       "        vertical-align: top;\n",
       "    }\n",
       "\n",
       "    .dataframe thead th {\n",
       "        text-align: right;\n",
       "    }\n",
       "</style>\n",
       "<table border=\"1\" class=\"dataframe\">\n",
       "  <thead>\n",
       "    <tr style=\"text-align: right;\">\n",
       "      <th></th>\n",
       "      <th>gender</th>\n",
       "      <th>group</th>\n",
       "      <th>test preparation course</th>\n",
       "      <th>math score</th>\n",
       "      <th>reading score</th>\n",
       "      <th>writing score</th>\n",
       "    </tr>\n",
       "  </thead>\n",
       "  <tbody>\n",
       "    <tr>\n",
       "      <th>0</th>\n",
       "      <td>female</td>\n",
       "      <td>group B</td>\n",
       "      <td>none</td>\n",
       "      <td>72.0</td>\n",
       "      <td>72</td>\n",
       "      <td>74.0</td>\n",
       "    </tr>\n",
       "    <tr>\n",
       "      <th>1</th>\n",
       "      <td>female</td>\n",
       "      <td>group C</td>\n",
       "      <td>completed</td>\n",
       "      <td>69.0</td>\n",
       "      <td>90</td>\n",
       "      <td>88.0</td>\n",
       "    </tr>\n",
       "    <tr>\n",
       "      <th>2</th>\n",
       "      <td>female</td>\n",
       "      <td>group B</td>\n",
       "      <td>none</td>\n",
       "      <td>NaN</td>\n",
       "      <td>95</td>\n",
       "      <td>NaN</td>\n",
       "    </tr>\n",
       "    <tr>\n",
       "      <th>3</th>\n",
       "      <td>male</td>\n",
       "      <td>group A</td>\n",
       "      <td>none</td>\n",
       "      <td>47.0</td>\n",
       "      <td>57</td>\n",
       "      <td>44.0</td>\n",
       "    </tr>\n",
       "    <tr>\n",
       "      <th>4</th>\n",
       "      <td>male</td>\n",
       "      <td>group C</td>\n",
       "      <td>none</td>\n",
       "      <td>76.0</td>\n",
       "      <td>78</td>\n",
       "      <td>75.0</td>\n",
       "    </tr>\n",
       "    <tr>\n",
       "      <th>...</th>\n",
       "      <td>...</td>\n",
       "      <td>...</td>\n",
       "      <td>...</td>\n",
       "      <td>...</td>\n",
       "      <td>...</td>\n",
       "      <td>...</td>\n",
       "    </tr>\n",
       "    <tr>\n",
       "      <th>995</th>\n",
       "      <td>female</td>\n",
       "      <td>group E</td>\n",
       "      <td>completed</td>\n",
       "      <td>88.0</td>\n",
       "      <td>99</td>\n",
       "      <td>95.0</td>\n",
       "    </tr>\n",
       "    <tr>\n",
       "      <th>996</th>\n",
       "      <td>male</td>\n",
       "      <td>group C</td>\n",
       "      <td>none</td>\n",
       "      <td>NaN</td>\n",
       "      <td>55</td>\n",
       "      <td>55.0</td>\n",
       "    </tr>\n",
       "    <tr>\n",
       "      <th>997</th>\n",
       "      <td>female</td>\n",
       "      <td>group C</td>\n",
       "      <td>completed</td>\n",
       "      <td>59.0</td>\n",
       "      <td>71</td>\n",
       "      <td>65.0</td>\n",
       "    </tr>\n",
       "    <tr>\n",
       "      <th>998</th>\n",
       "      <td>female</td>\n",
       "      <td>group D</td>\n",
       "      <td>completed</td>\n",
       "      <td>68.0</td>\n",
       "      <td>78</td>\n",
       "      <td>77.0</td>\n",
       "    </tr>\n",
       "    <tr>\n",
       "      <th>999</th>\n",
       "      <td>female</td>\n",
       "      <td>group D</td>\n",
       "      <td>none</td>\n",
       "      <td>77.0</td>\n",
       "      <td>86</td>\n",
       "      <td>86.0</td>\n",
       "    </tr>\n",
       "  </tbody>\n",
       "</table>\n",
       "<p>1000 rows × 6 columns</p>\n",
       "</div>"
      ],
      "text/plain": [
       "     gender    group test preparation course  math score  reading score  \\\n",
       "0    female  group B                    none        72.0             72   \n",
       "1    female  group C               completed        69.0             90   \n",
       "2    female  group B                    none         NaN             95   \n",
       "3      male  group A                    none        47.0             57   \n",
       "4      male  group C                    none        76.0             78   \n",
       "..      ...      ...                     ...         ...            ...   \n",
       "995  female  group E               completed        88.0             99   \n",
       "996    male  group C                    none         NaN             55   \n",
       "997  female  group C               completed        59.0             71   \n",
       "998  female  group D               completed        68.0             78   \n",
       "999  female  group D                    none        77.0             86   \n",
       "\n",
       "     writing score  \n",
       "0             74.0  \n",
       "1             88.0  \n",
       "2              NaN  \n",
       "3             44.0  \n",
       "4             75.0  \n",
       "..             ...  \n",
       "995           95.0  \n",
       "996           55.0  \n",
       "997           65.0  \n",
       "998           77.0  \n",
       "999           86.0  \n",
       "\n",
       "[1000 rows x 6 columns]"
      ]
     },
     "execution_count": 232,
     "metadata": {},
     "output_type": "execute_result"
    }
   ],
   "source": [
    "sp = pd.read_csv(\"StudentsPerformance - Copy.csv\")\n",
    "sp"
   ]
  },
  {
   "cell_type": "markdown",
   "metadata": {},
   "source": [
    "**Problem 1.2 (Points 5)** \n",
    "\n",
    "Print first 10 rows of the data."
   ]
  },
  {
   "cell_type": "code",
   "execution_count": 99,
   "metadata": {},
   "outputs": [
    {
     "data": {
      "text/html": [
       "<div>\n",
       "<style scoped>\n",
       "    .dataframe tbody tr th:only-of-type {\n",
       "        vertical-align: middle;\n",
       "    }\n",
       "\n",
       "    .dataframe tbody tr th {\n",
       "        vertical-align: top;\n",
       "    }\n",
       "\n",
       "    .dataframe thead th {\n",
       "        text-align: right;\n",
       "    }\n",
       "</style>\n",
       "<table border=\"1\" class=\"dataframe\">\n",
       "  <thead>\n",
       "    <tr style=\"text-align: right;\">\n",
       "      <th></th>\n",
       "      <th>gender</th>\n",
       "      <th>group</th>\n",
       "      <th>test preparation course</th>\n",
       "      <th>math score</th>\n",
       "      <th>reading score</th>\n",
       "      <th>writing score</th>\n",
       "    </tr>\n",
       "  </thead>\n",
       "  <tbody>\n",
       "    <tr>\n",
       "      <th>0</th>\n",
       "      <td>female</td>\n",
       "      <td>group B</td>\n",
       "      <td>none</td>\n",
       "      <td>72.0</td>\n",
       "      <td>72</td>\n",
       "      <td>74.0</td>\n",
       "    </tr>\n",
       "    <tr>\n",
       "      <th>1</th>\n",
       "      <td>female</td>\n",
       "      <td>group C</td>\n",
       "      <td>completed</td>\n",
       "      <td>69.0</td>\n",
       "      <td>90</td>\n",
       "      <td>88.0</td>\n",
       "    </tr>\n",
       "    <tr>\n",
       "      <th>2</th>\n",
       "      <td>female</td>\n",
       "      <td>group B</td>\n",
       "      <td>none</td>\n",
       "      <td>NaN</td>\n",
       "      <td>95</td>\n",
       "      <td>NaN</td>\n",
       "    </tr>\n",
       "    <tr>\n",
       "      <th>3</th>\n",
       "      <td>male</td>\n",
       "      <td>group A</td>\n",
       "      <td>none</td>\n",
       "      <td>47.0</td>\n",
       "      <td>57</td>\n",
       "      <td>44.0</td>\n",
       "    </tr>\n",
       "    <tr>\n",
       "      <th>4</th>\n",
       "      <td>male</td>\n",
       "      <td>group C</td>\n",
       "      <td>none</td>\n",
       "      <td>76.0</td>\n",
       "      <td>78</td>\n",
       "      <td>75.0</td>\n",
       "    </tr>\n",
       "    <tr>\n",
       "      <th>5</th>\n",
       "      <td>female</td>\n",
       "      <td>group B</td>\n",
       "      <td>none</td>\n",
       "      <td>71.0</td>\n",
       "      <td>83</td>\n",
       "      <td>78.0</td>\n",
       "    </tr>\n",
       "    <tr>\n",
       "      <th>6</th>\n",
       "      <td>female</td>\n",
       "      <td>group B</td>\n",
       "      <td>completed</td>\n",
       "      <td>88.0</td>\n",
       "      <td>95</td>\n",
       "      <td>92.0</td>\n",
       "    </tr>\n",
       "    <tr>\n",
       "      <th>7</th>\n",
       "      <td>male</td>\n",
       "      <td>group B</td>\n",
       "      <td>none</td>\n",
       "      <td>40.0</td>\n",
       "      <td>43</td>\n",
       "      <td>39.0</td>\n",
       "    </tr>\n",
       "    <tr>\n",
       "      <th>8</th>\n",
       "      <td>male</td>\n",
       "      <td>group D</td>\n",
       "      <td>completed</td>\n",
       "      <td>64.0</td>\n",
       "      <td>64</td>\n",
       "      <td>67.0</td>\n",
       "    </tr>\n",
       "    <tr>\n",
       "      <th>9</th>\n",
       "      <td>female</td>\n",
       "      <td>group B</td>\n",
       "      <td>none</td>\n",
       "      <td>38.0</td>\n",
       "      <td>60</td>\n",
       "      <td>50.0</td>\n",
       "    </tr>\n",
       "  </tbody>\n",
       "</table>\n",
       "</div>"
      ],
      "text/plain": [
       "   gender    group test preparation course  math score  reading score  \\\n",
       "0  female  group B                    none        72.0             72   \n",
       "1  female  group C               completed        69.0             90   \n",
       "2  female  group B                    none         NaN             95   \n",
       "3    male  group A                    none        47.0             57   \n",
       "4    male  group C                    none        76.0             78   \n",
       "5  female  group B                    none        71.0             83   \n",
       "6  female  group B               completed        88.0             95   \n",
       "7    male  group B                    none        40.0             43   \n",
       "8    male  group D               completed        64.0             64   \n",
       "9  female  group B                    none        38.0             60   \n",
       "\n",
       "   writing score  \n",
       "0           74.0  \n",
       "1           88.0  \n",
       "2            NaN  \n",
       "3           44.0  \n",
       "4           75.0  \n",
       "5           78.0  \n",
       "6           92.0  \n",
       "7           39.0  \n",
       "8           67.0  \n",
       "9           50.0  "
      ]
     },
     "execution_count": 99,
     "metadata": {},
     "output_type": "execute_result"
    }
   ],
   "source": [
    "sp.head(10)"
   ]
  },
  {
   "cell_type": "markdown",
   "metadata": {},
   "source": [
    "**Problem 1.3 (Points 5)**\n",
    "\n",
    "How many different groups are there in this data set?"
   ]
  },
  {
   "cell_type": "code",
   "execution_count": 240,
   "metadata": {},
   "outputs": [
    {
     "name": "stdout",
     "output_type": "stream",
     "text": [
      "There are 5 different groups\n"
     ]
    }
   ],
   "source": [
    "number_of_groups = sp[\"group\"].unique()\n",
    "num = len(number_of_groups)\n",
    "print(\"There are\", num, \"different groups\")"
   ]
  },
  {
   "cell_type": "markdown",
   "metadata": {},
   "source": [
    "**Problem 1.4 (Points 5)**\n",
    "\n",
    "Print all different groups in this data set:"
   ]
  },
  {
   "cell_type": "code",
   "execution_count": 243,
   "metadata": {},
   "outputs": [
    {
     "name": "stdout",
     "output_type": "stream",
     "text": [
      "['group A' 'group B' 'group C' 'group D' 'group E']\n"
     ]
    }
   ],
   "source": [
    "print(np.sort(number_of_groups))"
   ]
  },
  {
   "cell_type": "markdown",
   "metadata": {},
   "source": [
    "**Problem 1.5 (Points 10)**\n",
    "\n",
    "For each group print the number of female and the number of male members: "
   ]
  },
  {
   "cell_type": "code",
   "execution_count": 135,
   "metadata": {},
   "outputs": [
    {
     "data": {
      "text/plain": [
       "group    gender\n",
       "group A  female     36\n",
       "         male       53\n",
       "group B  female    104\n",
       "         male       86\n",
       "group C  female    180\n",
       "         male      139\n",
       "group D  female    129\n",
       "         male      133\n",
       "group E  female     69\n",
       "         male       71\n",
       "dtype: int64"
      ]
     },
     "execution_count": 135,
     "metadata": {},
     "output_type": "execute_result"
    }
   ],
   "source": [
    "sp.groupby(['group','gender']).size()"
   ]
  },
  {
   "cell_type": "markdown",
   "metadata": {},
   "source": [
    "**Problem 1.6 (Points 10)**\n",
    "\n",
    "For each group print the percent of female and the percent of male members:"
   ]
  },
  {
   "cell_type": "code",
   "execution_count": 250,
   "metadata": {},
   "outputs": [
    {
     "name": "stdout",
     "output_type": "stream",
     "text": [
      "group A female percentage is 40.44943820224719 % and male percentage is 59.55056179775281 %\n",
      "group B female percentage is 54.736842105263165 % and male percentage is 45.26315789473684 %\n",
      "group C female percentage is 56.42633228840125 % and male percentage is 43.573667711598745 %\n",
      "group D female percentage is 49.23664122137404 % and male percentage is 50.76335877862596 %\n",
      "group E female percentage is 49.28571428571429 % and male percentage is 50.71428571428571 %\n"
     ]
    }
   ],
   "source": [
    "for group in sp[\"group\"].drop_duplicates().sort_values():\n",
    "    gender_group = sp[sp.group == group].groupby(\"gender\").size()\n",
    "    female = gender_group[\"female\"]\n",
    "    male = gender_group[\"male\"]\n",
    "    female_percent = 100*(female/(female + male))\n",
    "    male_percent = 100*(male/(female+male))\n",
    "    print(group, \"female percentage is\", female_percent, \"%\", \"and\", \"male percentage is\", male_percent, \"%\")"
   ]
  },
  {
   "cell_type": "markdown",
   "metadata": {},
   "source": [
    "**Problem 1.7 (Points 20)**\n",
    "\n",
    "For each of the groups plot the histogram over `math_score`. In your plots set number of bins to be `bins=50`\n",
    "Note: You can plot one figure per group."
   ]
  },
  {
   "cell_type": "code",
   "execution_count": 251,
   "metadata": {},
   "outputs": [
    {
     "data": {
      "image/png": "[encoded data removed]",
      "text/plain": [
       "<Figure size 432x288 with 1 Axes>"
      ]
     },
     "metadata": {
      "needs_background": "light"
     },
     "output_type": "display_data"
    },
    {
     "data": {
      "image/png": "[encoded data removed]",
      "text/plain": [
       "<Figure size 432x288 with 1 Axes>"
      ]
     },
     "metadata": {
      "needs_background": "light"
     },
     "output_type": "display_data"
    },
    {
     "data": {
      "image/png": "[encoded data removed]",
      "text/plain": [
       "<Figure size 432x288 with 1 Axes>"
      ]
     },
     "metadata": {
      "needs_background": "light"
     },
     "output_type": "display_data"
    },
    {
     "data": {
      "image/png": "[encoded data removed]",
      "text/plain": [
       "<Figure size 432x288 with 1 Axes>"
      ]
     },
     "metadata": {
      "needs_background": "light"
     },
     "output_type": "display_data"
    },
    {
     "data": {
      "image/png": "[encoded data removed]",
      "text/plain": [
       "<Figure size 432x288 with 1 Axes>"
      ]
     },
     "metadata": {
      "needs_background": "light"
     },
     "output_type": "display_data"
    }
   ],
   "source": [
    "for math in sp[\"group\"].drop_duplicates().sort_values():\n",
    "    math_score_group = sp[sp.group == math].groupby(\"math score\").size()\n",
    "    pyplot.hist(math_score_group, bins=50, label=f\"Score\")\n",
    "    pyplot.xlabel(\"Score\")\n",
    "    pyplot.ylabel(\"Count\")\n",
    "    pyplot.gca().legend([f\"Score for group {math}\"])\n",
    "    pyplot.show()\n"
   ]
  },
  {
   "cell_type": "markdown",
   "metadata": {},
   "source": [
    "**Problem 1.8 (Points 20)**\n",
    "\n",
    "\n",
    "Make three diagrams that present `2D` scatter plots, where the axes are taking the column values from the data set. So the three diagrams will have the following axes: \n",
    "    \n",
    "diag1: x=\"math score\", y=\"reading score\"\n",
    "\n",
    "diag2: x=\"math score\", y=\"writing score\"\n",
    "\n",
    "diag3: x=\"reading score\", y=\"writing score\"\n",
    "\n"
   ]
  },
  {
   "cell_type": "code",
   "execution_count": 112,
   "metadata": {},
   "outputs": [
    {
     "data": {
      "text/plain": [
       "Text(0, 0.5, 'reading score')"
      ]
     },
     "execution_count": 112,
     "metadata": {},
     "output_type": "execute_result"
    },
    {
     "data": {
      "image/png": "[encoded data removed]",
      "text/plain": [
       "<Figure size 432x288 with 1 Axes>"
      ]
     },
     "metadata": {
      "needs_background": "light"
     },
     "output_type": "display_data"
    }
   ],
   "source": [
    "plt.scatter(sp[\"math score\"], sp[\"reading score\"], s = 1)\n",
    "plt.title('Scatter plot of math score and reading score', fontsize=13, fontweight='bold')\n",
    "plt.xlabel('math score')\n",
    "plt.ylabel('reading score')"
   ]
  },
  {
   "cell_type": "code",
   "execution_count": 113,
   "metadata": {},
   "outputs": [
    {
     "data": {
      "text/plain": [
       "Text(0, 0.5, 'writing score')"
      ]
     },
     "execution_count": 113,
     "metadata": {},
     "output_type": "execute_result"
    },
    {
     "data": {
      "image/png": "[encoded data removed]",
      "text/plain": [
       "<Figure size 432x288 with 1 Axes>"
      ]
     },
     "metadata": {
      "needs_background": "light"
     },
     "output_type": "display_data"
    }
   ],
   "source": [
    "plt.scatter(sp[\"math score\"], sp[\"writing score\"], s = 1)\n",
    "plt.title('Scatter plot of math score and writing score', fontsize=13, fontweight='bold')\n",
    "plt.xlabel('math score')\n",
    "plt.ylabel('writing score')"
   ]
  },
  {
   "cell_type": "code",
   "execution_count": 114,
   "metadata": {},
   "outputs": [
    {
     "data": {
      "text/plain": [
       "Text(0, 0.5, 'writing score')"
      ]
     },
     "execution_count": 114,
     "metadata": {},
     "output_type": "execute_result"
    },
    {
     "data": {
      "image/png": "[encoded data removed]",
      "text/plain": [
       "<Figure size 432x288 with 1 Axes>"
      ]
     },
     "metadata": {
      "needs_background": "light"
     },
     "output_type": "display_data"
    }
   ],
   "source": [
    "plt.scatter(sp[\"reading score\"], sp[\"writing score\"], s = 1)\n",
    "plt.title('Scatter plot of reading score and writing score', fontsize=13, fontweight='bold')\n",
    "plt.xlabel('reading score')\n",
    "plt.ylabel('writing score')"
   ]
  },
  {
   "cell_type": "markdown",
   "metadata": {},
   "source": [
    "**Problem 1.9 (Points 20)**\n",
    "\n",
    "Normalize each of the three columns `math score`, `reading score`, `writing score` by subtracting its mean value and dividing by its standard deviation, and form three new columns: `math_score_norm`, `reading_score_norm`, `writing_score_norm`, respectively.\n",
    "\n",
    "Perform the same task the one above (1.8) on these newly formed columns.  \n"
   ]
  },
  {
   "cell_type": "code",
   "execution_count": 215,
   "metadata": {},
   "outputs": [],
   "source": [
    "math_avg = np.mean(sp[\"math score\"])\n",
    "math_sd = np.std(sp[\"math score\"])\n",
    "reading_avg = np.mean(sp[\"reading score\"])\n",
    "reading_sd = np.std(sp[\"reading score\"])\n",
    "writing_avg = np.mean(sp[\"writing score\"])\n",
    "writing_sd = np.std(sp[\"writing score\"])\n",
    "\n",
    "math_score_norm = (sp[\"math score\"]-math_avg)/math_sd\n",
    "reading_score_norm = (sp[\"reading score\"]-reading_avg)/reading_sd\n",
    "writing_score_norm = (sp[\"writing score\"]-writing_avg)/writing_sd"
   ]
  },
  {
   "cell_type": "code",
   "execution_count": 225,
   "metadata": {},
   "outputs": [
    {
     "data": {
      "text/plain": [
       "Text(0, 0.5, 'reading score norm')"
      ]
     },
     "execution_count": 225,
     "metadata": {},
     "output_type": "execute_result"
    },
    {
     "data": {
      "image/png": "[encoded data removed]",
      "text/plain": [
       "<Figure size 432x288 with 1 Axes>"
      ]
     },
     "metadata": {
      "needs_background": "light"
     },
     "output_type": "display_data"
    }
   ],
   "source": [
    "plt.scatter(math_score_norm, reading_score_norm, s = 1, color = \"r\")\n",
    "plt.title('Scatter plot of math score norm and reading score norm', fontsize=13, fontweight='bold')\n",
    "plt.xlabel('math score norm')\n",
    "plt.ylabel('reading score norm')"
   ]
  },
  {
   "cell_type": "code",
   "execution_count": 223,
   "metadata": {},
   "outputs": [
    {
     "data": {
      "text/plain": [
       "Text(0, 0.5, 'writing score norm')"
      ]
     },
     "execution_count": 223,
     "metadata": {},
     "output_type": "execute_result"
    },
    {
     "data": {
      "image/png": "[encoded data removed]",
      "text/plain": [
       "<Figure size 432x288 with 1 Axes>"
      ]
     },
     "metadata": {
      "needs_background": "light"
     },
     "output_type": "display_data"
    }
   ],
   "source": [
    "plt.scatter(math_score_norm, writing_score_norm, s = 1, color = \"r\")\n",
    "plt.title('Scatter plot of math score norm and writing score norm', fontsize=13, fontweight='bold')\n",
    "plt.xlabel('math score norm')\n",
    "plt.ylabel('writing score norm')"
   ]
  },
  {
   "cell_type": "code",
   "execution_count": 227,
   "metadata": {},
   "outputs": [
    {
     "data": {
      "text/plain": [
       "Text(0, 0.5, 'writing score norm')"
      ]
     },
     "execution_count": 227,
     "metadata": {},
     "output_type": "execute_result"
    },
    {
     "data": {
      "image/png": "[encoded data removed]",
      "text/plain": [
       "<Figure size 432x288 with 1 Axes>"
      ]
     },
     "metadata": {
      "needs_background": "light"
     },
     "output_type": "display_data"
    }
   ],
   "source": [
    "plt.scatter(reading_score_norm, writing_score_norm, s = 1, color = \"r\")\n",
    "plt.title('Scatter plot of reading score norm and writing score norm', fontsize=13, fontweight='bold')\n",
    "plt.xlabel('reading score norm')\n",
    "plt.ylabel('writing score norm')"
   ]
  }
 ],
 "metadata": {
  "kernelspec": {
   "display_name": "Python 3",
   "language": "python",
   "name": "python3"
  },
  "language_info": {
   "codemirror_mode": {
    "name": "ipython",
    "version": 3
   },
   "file_extension": ".py",
   "mimetype": "text/x-python",
   "name": "python",
   "nbconvert_exporter": "python",
   "pygments_lexer": "ipython3",
   "version": "3.7.3"
  }
 },
 "nbformat": 4,
 "nbformat_minor": 2
}
